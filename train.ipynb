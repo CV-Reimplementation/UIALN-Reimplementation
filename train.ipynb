{
 "cells": [
  {
   "cell_type": "markdown",
   "metadata": {},
   "source": [
    "#### 导入库"
   ]
  },
  {
   "cell_type": "code",
   "execution_count": 1,
   "metadata": {
    "collapsed": true,
    "pycharm": {
     "is_executing": true
    },
    "ExecuteTime": {
     "end_time": "2023-11-23T08:15:59.727194155Z",
     "start_time": "2023-11-23T08:15:59.061019286Z"
    }
   },
   "outputs": [],
   "source": [
    "import torch\n",
    "import torch.nn as nn\n",
    "import torch.nn.functional as F\n",
    "from torchsummary import summary\n",
    "import torchvision.models as models\n",
    "from Net import *\n",
    "from Loss import *\n",
    "from DataLoader import *\n",
    "from torch.utils.data import DataLoader\n",
    "import time"
   ]
  },
  {
   "cell_type": "markdown",
   "metadata": {},
   "source": [
    "#### 基本参数"
   ]
  },
  {
   "cell_type": "code",
   "execution_count": 2,
   "metadata": {
    "collapsed": true,
    "ExecuteTime": {
     "end_time": "2023-11-23T08:15:59.729970303Z",
     "start_time": "2023-11-23T08:15:59.728494284Z"
    }
   },
   "outputs": [],
   "source": [
    "size=256\n",
    "train_batch_size = 4\n",
    "start_epochs = 0\n",
    "learning_rate = 0.0002\n",
    "# 总共训练200个epoch\n",
    "num_epochs = 5\n",
    "device = torch.device(\"cuda:0\" if torch.cuda.is_available() else \"cpu\")\n",
    "save_point = 5\n",
    "# 1:分解模型\n",
    "model_choose = 4"
   ]
  },
  {
   "cell_type": "markdown",
   "metadata": {},
   "source": [
    "#### 损失函数"
   ]
  },
  {
   "cell_type": "code",
   "execution_count": 3,
   "metadata": {
    "collapsed": true,
    "ExecuteTime": {
     "end_time": "2023-11-23T08:15:59.734228631Z",
     "start_time": "2023-11-23T08:15:59.730554402Z"
    }
   },
   "outputs": [],
   "source": [
    "consLoss = nn.MSELoss()\n",
    "recLoss = nn.MSELoss()\n",
    "colorLoss = nn.MSELoss()\n",
    "hazeLoss = nn.MSELoss()\n",
    "# structure-aware TV loss\n",
    "smoothLoss = TVLoss()"
   ]
  },
  {
   "cell_type": "markdown",
   "metadata": {},
   "source": [
    "#### 数据缓存入内存，加快读入速度"
   ]
  },
  {
   "cell_type": "code",
   "execution_count": 4,
   "metadata": {
    "collapsed": true,
    "ExecuteTime": {
     "end_time": "2023-11-23T08:15:59.775274358Z",
     "start_time": "2023-11-23T08:15:59.734540120Z"
    }
   },
   "outputs": [],
   "source": [
    "class DataPrefetcher():\n",
    "\n",
    "    def __init__(self, loader):\n",
    "        self.loader = iter(loader)\n",
    "        self.preload()\n",
    "\n",
    "    def preload(self):\n",
    "        try:\n",
    "            self.batch = next(self.loader)\n",
    "        except StopIteration:\n",
    "            self.batch = None\n",
    "            return\n",
    "\n",
    "    def next(self):\n",
    "        batch = self.batch\n",
    "        self.preload()\n",
    "        return batch"
   ]
  },
  {
   "cell_type": "markdown",
   "metadata": {},
   "source": [
    "#### 模型1_分解模型"
   ]
  },
  {
   "cell_type": "code",
   "execution_count": 5,
   "metadata": {
    "ExecuteTime": {
     "end_time": "2023-11-23T08:15:59.775507570Z",
     "start_time": "2023-11-23T08:15:59.775136162Z"
    }
   },
   "outputs": [],
   "source": [
    "def train_1(start_epoch):\n",
    "    print(\"模型导入中\")\n",
    "    model = Retinex_Decomposition_net().to(device)\n",
    "    if start_epoch != 0:\n",
    "        model_path = './checkpoints/Retinex_Decomposition_net/epoch_' + str(start_epoch) + '.pth'\n",
    "        model.load_state_dict(torch.load(model_path))\n",
    "    print(\"模型导入完成\")\n",
    "    model.train()\n",
    "    optimizer = torch.optim.Adam(model.parameters(), lr=learning_rate)\n",
    "    total_loss = 0\n",
    "    for epoch in range(start_epoch+1, num_epochs+1):\n",
    "        print(\"epoch: \", epoch)\n",
    "        L_no_light_path = r\"/data/underwater/UIALN/Synthetic_dataset/dataset_no_AL\"\n",
    "        L_light_path = r\"/data/underwater/UIALN/Synthetic_dataset/dataset_with_AL/train\"\n",
    "        dataset = retinex_decomposition_data(L_no_light_path, L_light_path)\n",
    "        train_loader = DataLoader(dataset, batch_size=train_batch_size, shuffle=True, num_workers=0)\n",
    "        start_time = time.time()\n",
    "        prefetcher = DataPrefetcher(train_loader)\n",
    "        batch = prefetcher.next()\n",
    "        i = 0\n",
    "        epoch_loss = 0\n",
    "        while batch is not None:\n",
    "            i += 1\n",
    "            L_no_light = batch[0].to(device)\n",
    "            L_light = batch[1].to(device)\n",
    "            L_no_light_hat = model(L_no_light)\n",
    "            # 每个batch中的第一个是I_no_light_hat，第二个是R_no_light_hat，它们的shape都是[batch_size, 1, 256, 256]，batch不改变\n",
    "            I_no_light_hat, R_no_light_hat = torch.split(L_no_light_hat, 1, dim=1)\n",
    "            L_light_hat = model(L_light)\n",
    "            I_light_hat, R_light_hat = torch.split(L_light_hat, 1, dim=1)\n",
    "            loss_1 = consLoss(R_light_hat, R_no_light_hat)\n",
    "            loss_2_1 = recLoss(I_light_hat*R_light_hat, L_light)\n",
    "            loss_2_2 = recLoss(I_no_light_hat*R_no_light_hat, L_no_light)\n",
    "            loss_3 = smoothLoss(I_light_hat, R_light_hat)\n",
    "            loss_4 = smoothLoss(I_no_light_hat, R_no_light_hat)\n",
    "            loss = loss_1 + loss_2_1 + loss_2_2 + loss_3 + loss_4\n",
    "            epoch_loss += loss\n",
    "            optimizer.zero_grad()\n",
    "            loss.backward()\n",
    "            optimizer.step()\n",
    "            batch = prefetcher.next()\n",
    "        if (epoch + 1) % save_point == 0:\n",
    "            state = {'model': model.state_dict(), 'optimizer': optimizer.state_dict(), 'epoch': epoch}\n",
    "            torch.save(state, './checkpoints/Retinex_Decomposition_net/epoch_' + str(epoch) + '.pth')\n",
    "        time_epoch = time.time() - start_time\n",
    "        epoch_loss = epoch_loss*1.0/i\n",
    "        total_loss += epoch_loss\n",
    "        print(\"==>No: {} epoch, time: {:.2f}, loss: {:.5f}\".format(epoch, time_epoch / 60, epoch_loss))\n",
    "        with open(\"output.txt\", \"a\") as f:\n",
    "            f.write(\"==>No: {} epoch, time: {:.2f}, loss: {:.5f}\\n\".format(epoch, time_epoch / 60, epoch_loss))\n",
    "    print(\"total_loss:\",total_loss*1.0/num_epochs-start_epochs)"
   ]
  },
  {
   "cell_type": "markdown",
   "metadata": {},
   "source": [
    "#### 模型2_光照校正模型"
   ]
  },
  {
   "cell_type": "code",
   "execution_count": 6,
   "metadata": {
    "ExecuteTime": {
     "end_time": "2023-11-23T08:15:59.775876355Z",
     "start_time": "2023-11-23T08:15:59.775426328Z"
    }
   },
   "outputs": [],
   "source": [
    "def train_2(start_epoch):\n",
    "    print(\"模型导入\")\n",
    "    # 前置模型\n",
    "    model_1 = Retinex_Decomposition_net().to(device)\n",
    "    model1_path = './save_model/Retinex_Light_Correction_net.pth'\n",
    "    model_1.load_state_dict(torch.load(model1_path)['model'])\n",
    "    # 后置模型\n",
    "    model_2 = Illumination_Correction().to(device)\n",
    "    if start_epoch != 0:\n",
    "        model2_path = './checkpoints/Illumination_Correction/epoch_' + str(start_epoch) + '.pth'\n",
    "        model_2.load_state_dict(torch.load(model2_path))\n",
    "    print(\"模型导入完成\")\n",
    "    model_1.eval()\n",
    "    model_2.train()\n",
    "    optimizer = torch.optim.Adam(model_2.parameters(), lr=learning_rate)\n",
    "    total_loss = 0\n",
    "    for epoch in range(start_epoch+1, num_epochs+1):\n",
    "        print(\"epoch: \", epoch)\n",
    "        L_no_light_path = r\"/data/underwater/UIALN/Synthetic_dataset/dataset_no_AL\"\n",
    "        L_light_path = r\"/data/underwater/UIALN/Synthetic_dataset/dataset_with_AL/train\"\n",
    "        dataset = retinex_decomposition_data(L_no_light_path, L_light_path)\n",
    "        train_loader = DataLoader(dataset, batch_size=train_batch_size, shuffle=True, num_workers=0)\n",
    "        start_time = time.time()\n",
    "        prefetcher = DataPrefetcher(train_loader)\n",
    "        batch = prefetcher.next()\n",
    "        i = 0\n",
    "        epoch_loss = 0\n",
    "        while batch is not None:\n",
    "            i+=1\n",
    "            L_no_light = batch[0].to(device)\n",
    "            L_light = batch[1].to(device)\n",
    "            temp = model_1(L_light)\n",
    "            I_light, R_light = torch.split(temp, 1, dim=1)\n",
    "            temp = model_1(L_no_light)\n",
    "            I_no_light, R_no_light = torch.split(temp, 1, dim=1)\n",
    "            I_delight_hat = model_2(torch.cat((I_light, R_light), dim=1))\n",
    "            # 感觉论文这里有点问题，之后问一下\n",
    "            loss_1 = recLoss(I_delight_hat*R_light, L_no_light)\n",
    "            loss_2 = consLoss(R_light, R_no_light)\n",
    "            loss = loss_1 + loss_2\n",
    "            epoch_loss += loss\n",
    "            optimizer.zero_grad()\n",
    "            loss.backward()\n",
    "            optimizer.step()\n",
    "            batch = prefetcher.next()\n",
    "        if (epoch + 1) % save_point == 0:\n",
    "            state = {'model': model_2.state_dict(), 'optimizer': optimizer.state_dict(), 'epoch': epoch}\n",
    "            torch.save(state, './checkpoints/Illumination_Correction/epoch_' + str(epoch) + '.pth')\n",
    "        time_epoch = time.time() - start_time\n",
    "        epoch_loss = epoch_loss*1.0/i\n",
    "        total_loss += epoch_loss\n",
    "        print(\"==>No: {} epoch, time: {:.2f}, loss: {:.5f}\".format(epoch, time_epoch / 60, epoch_loss))\n",
    "        with open(\"output.txt\", \"a\") as f:\n",
    "            f.write(\"==>No: {} epoch, time: {:.2f}, loss: {:.5f}\\n\".format(epoch, time_epoch / 60, epoch_loss))\n",
    "    print(\"total_loss:\",total_loss*1.0/num_epochs-start_epochs)\n"
   ]
  },
  {
   "cell_type": "markdown",
   "metadata": {},
   "source": [
    "#### 模型3_AL区域自导向色彩恢复模块"
   ]
  },
  {
   "cell_type": "code",
   "execution_count": 7,
   "metadata": {
    "ExecuteTime": {
     "end_time": "2023-11-23T08:15:59.776134395Z",
     "start_time": "2023-11-23T08:15:59.775539234Z"
    }
   },
   "outputs": [],
   "source": [
    "def train_3(start_epoch):\n",
    "    print(\"模型导入\")\n",
    "    # 前置双模型\n",
    "    model_1 = Retinex_Decomposition_net().to(device)\n",
    "    model1_path = './save_model/Retinex_Light_Correction_net.pth'\n",
    "    model_1.load_state_dict(torch.load(model1_path)['model'])\n",
    "    model_2 = Illumination_Correction().to(device)\n",
    "    model2_path = './save_model/Illumination_Correction_net.pth'\n",
    "    model_2.load_state_dict(torch.load(model2_path)['model'])\n",
    "    # 后置模型\n",
    "    model_3 = AL_Area_Selfguidance_Color_Correction().to(device)\n",
    "    if start_epoch != 0:\n",
    "        model3_path = './checkpoints/AL_Area_Selfguidance_Color_Correction/epoch_' + str(start_epoch) + '.pth'\n",
    "        model_3.load_state_dict(torch.load(model3_path))\n",
    "    print(\"模型导入完成\")\n",
    "    model_1.eval()\n",
    "    model_2.eval()\n",
    "    model_3.train()\n",
    "    optimizer = torch.optim.Adam(model_3.parameters(), lr=learning_rate)\n",
    "    total_loss = 0\n",
    "    for epoch in range(start_epoch+1, num_epochs+1):\n",
    "        print(\"epoch: \", epoch)\n",
    "        # ABcc_path = r\"./dataset/UIALN_datasest/train_data/dataset_with_AL/train\"\n",
    "        # gt_path = r\"./dataset/UIALN_datasest/train_data/labels/raw\"\n",
    "        ABcc_path = r\"/data/underwater/UIEB-EUVP-LSUI2/train/input\"\n",
    "        gt_path = r\"/data/underwater/UIEB-EUVP-LSUI2/train/target\"\n",
    "        dataset = AL_data(ABcc_path, gt_path, size=size)\n",
    "        train_loader = DataLoader(dataset, batch_size=train_batch_size, shuffle=True, num_workers=0)\n",
    "        start_time = time.time()\n",
    "        prefetcher = DataPrefetcher(train_loader)\n",
    "        batch = prefetcher.next()\n",
    "        i = 0\n",
    "        epoch_loss = 0\n",
    "        while batch is not None:\n",
    "            i+=1\n",
    "            ABcc = batch[0].to(device)\n",
    "            gt = batch[1].to(device)\n",
    "            L = batch[2].to(device)\n",
    "            temp = model_1(L)\n",
    "            I_light, R_light = torch.split(temp, 1, dim=1)\n",
    "            I_delight = model_2(temp)\n",
    "            M_image = I_light - I_delight\n",
    "            ABcc_hat = model_3(M_image, ABcc)\n",
    "            loss = colorLoss(ABcc_hat, gt)\n",
    "            epoch_loss += loss\n",
    "            optimizer.zero_grad()\n",
    "            loss.backward()\n",
    "            optimizer.step()\n",
    "            batch = prefetcher.next()\n",
    "        if (epoch + 1) % save_point == 0:\n",
    "            state = {'model': model_3.state_dict(), 'optimizer': optimizer.state_dict(), 'epoch': epoch}\n",
    "            torch.save(state, './checkpoints/AL_Area_Selfguidance_Color_Correction/epoch_' + str(epoch) + '.pth')\n",
    "        time_epoch = time.time() - start_time\n",
    "        epoch_loss = epoch_loss*1.0/i\n",
    "        total_loss += epoch_loss\n",
    "        print(\"==>No: {} epoch, time: {:.2f}, loss: {:.5f}\".format(epoch, time_epoch / 60, epoch_loss))\n",
    "        with open(\"output.txt\", \"a\") as f:\n",
    "            f.write(\"==>No: {} epoch, time: {:.2f}, loss: {:.5f}\\n\".format(epoch, time_epoch / 60, epoch_loss))\n",
    "    print(\"total_loss:\",total_loss*1.0/num_epochs-start_epochs)"
   ]
  },
  {
   "cell_type": "code",
   "execution_count": 8,
   "metadata": {
    "collapsed": true,
    "ExecuteTime": {
     "end_time": "2023-11-23T08:15:59.776197670Z",
     "start_time": "2023-11-23T08:15:59.775634854Z"
    }
   },
   "outputs": [],
   "source": [
    "def train_4(start_epoch):\n",
    "    print(\"模型导入\")\n",
    "    # 前置模型\n",
    "    model_1 = Retinex_Decomposition_net().to(device)\n",
    "    model1_path = './save_model/Retinex_Light_Correction_net.pth'\n",
    "    model_1.load_state_dict(torch.load(model1_path)['model'])\n",
    "    model_2 = Illumination_Correction().to(device)\n",
    "    model2_path = './save_model/Illumination_Correction_net.pth'\n",
    "    model_2.load_state_dict(torch.load(model2_path)['model'])\n",
    "    model_3 = AL_Area_Selfguidance_Color_Correction().to(device)\n",
    "    model3_path = './save_model/AL_Area_Selfguidance_Color_Correction_net.pth'\n",
    "    model_3.load_state_dict(torch.load(model3_path)['model'])\n",
    "    \n",
    "    # 后置模型\n",
    "    model_4 = Detail_Enhancement().to(device)\n",
    "    model_fusion = Channels_Fusion().to(device)\n",
    "    if start_epoch != 0:\n",
    "        model4_path = './checkpoints/Detail_Enhancement/epoch_' + str(start_epoch) + '.pth'\n",
    "        model_4.load_state_dict(torch.load(model4_path))\n",
    "        model_fusion_path = './checkpoints/Channels_Fusion/epoch_' + str(start_epoch) + '.pth'\n",
    "        model_fusion.load_state_dict(torch.load(model_fusion_path))\n",
    "    print(\"模型导入完成\")\n",
    "    model_1.eval()\n",
    "    model_2.eval()\n",
    "    model_3.eval()\n",
    "    model_4.train()\n",
    "    model_fusion.train()\n",
    "    \n",
    "    optimizer_4 = torch.optim.Adam(model_4.parameters(), lr=learning_rate)\n",
    "    optimizer_fusion = torch.optim.Adam(model_fusion.parameters(), lr=learning_rate)\n",
    "    total_loss = 0\n",
    "    for epoch in range(start_epoch+1, num_epochs+1):\n",
    "        print(\"epoch: \", epoch)\n",
    "        # ABcc_path = r\"./dataset/UIALN_datasest/train_data/dataset_with_AL/train\"\n",
    "        # gt_path = r\"./dataset/UIALN_datasest/train_data/labels/raw\"\n",
    "        ABcc_path = r\"/data/underwater/UIEB-EUVP-LSUI2/train/input\"\n",
    "        gt_path = r\"/data/underwater/UIEB-EUVP-LSUI2/train/target\"\n",
    "        dataset = Detail_Enhancement_data(ABcc_path, gt_path, size=size)\n",
    "        train_loader = DataLoader(dataset, batch_size=train_batch_size, shuffle=True, num_workers=0)\n",
    "        start_time = time.time()\n",
    "        prefetcher = DataPrefetcher(train_loader)\n",
    "        batch = prefetcher.next()\n",
    "        i = 0\n",
    "        epoch_loss = 0\n",
    "        while batch is not None:\n",
    "            i+=1\n",
    "            ABcc = batch[0].to(device)\n",
    "            L = batch[1].to(device)\n",
    "            gt_L_tensor = batch[2].to(device)\n",
    "            gt = batch[3].to(device)\n",
    "            \n",
    "            temp = model_1(L)\n",
    "            I_light, R_light = torch.split(temp, 1, dim=1)\n",
    "            I_delight = model_2(temp)\n",
    "            M_image = I_light - I_delight\n",
    "            ABcc = model_3(M_image, ABcc)\n",
    "            L_delight = I_delight * R_light\n",
    "            \n",
    "            L_en_hat = model_4(L_delight)   # enhanced L\n",
    "            LAB_hat = torch.cat((L_en_hat, ABcc), dim=1)\n",
    "            LAB_hat = model_fusion(LAB_hat)\n",
    "            \n",
    "            loss_haze = hazeLoss(gt_L_tensor, L_en_hat)\n",
    "            loss_recons = recLoss(gt, LAB_hat)\n",
    "            final_loss = loss_haze + loss_recons\n",
    "            epoch_loss += final_loss\n",
    "            \n",
    "            optimizer_fusion.zero_grad()\n",
    "            optimizer_4.zero_grad()\n",
    "            final_loss.backward()\n",
    "            optimizer_fusion.step()\n",
    "            \n",
    "            \n",
    "            # final_loss.backward()\n",
    "            optimizer_4.step()                \n",
    "            \n",
    "            batch = prefetcher.next()\n",
    "        if epoch % save_point == 0:\n",
    "            state = {'model': model_4.state_dict(), 'optimizer': optimizer_4.state_dict(), 'epoch': epoch}\n",
    "            torch.save(state, './checkpoints/Detail_Enhancement/epoch_' + str(epoch) + '.pth')\n",
    "            state = {'model': model_fusion.state_dict(), 'optimizer': optimizer_fusion.state_dict(), 'epoch': epoch}\n",
    "            torch.save(state, './checkpoints/Channels_Fusion/epoch_' + str(epoch) + '.pth')\n",
    "        time_epoch = time.time() - start_time\n",
    "        epoch_loss = epoch_loss*1.0/i\n",
    "        total_loss += epoch_loss\n",
    "        print(\"==>No: {} epoch, time: {:.2f}, loss: {:.5f}\".format(epoch, time_epoch / 60, epoch_loss))\n",
    "        with open(\"output.txt\", \"a\") as f:\n",
    "            f.write(\"==>No: {} epoch, time: {:.2f}, loss: {:.5f}\\n\".format(epoch, time_epoch / 60, epoch_loss))\n",
    "    print(\"total_loss:\",total_loss*1.0/num_epochs-start_epochs)"
   ]
  },
  {
   "cell_type": "markdown",
   "metadata": {},
   "source": [
    "#### 主函数-判定训练哪个模型"
   ]
  },
  {
   "cell_type": "code",
   "execution_count": 9,
   "metadata": {
    "collapsed": true,
    "ExecuteTime": {
     "end_time": "2023-11-23T08:40:02.829984605Z",
     "start_time": "2023-11-23T08:15:59.775684879Z"
    }
   },
   "outputs": [
    {
     "name": "stdout",
     "output_type": "stream",
     "text": [
      "True\n",
      "模型导入\n",
      "模型导入完成\n",
      "epoch:  1\n",
      "==>No: 1 epoch, time: 4.79, loss: 0.05011\n",
      "epoch:  2\n",
      "==>No: 2 epoch, time: 4.81, loss: 0.03047\n",
      "epoch:  3\n",
      "==>No: 3 epoch, time: 4.85, loss: 0.02686\n",
      "epoch:  4\n",
      "==>No: 4 epoch, time: 4.82, loss: 0.02421\n",
      "epoch:  5\n"
     ]
    },
    {
     "ename": "RuntimeError",
     "evalue": "Parent directory ./checkpoints/Detail_Enhancement does not exist.",
     "output_type": "error",
     "traceback": [
      "\u001B[0;31m---------------------------------------------------------------------------\u001B[0m",
      "\u001B[0;31mRuntimeError\u001B[0m                              Traceback (most recent call last)",
      "Cell \u001B[0;32mIn[9], line 10\u001B[0m\n\u001B[1;32m      8\u001B[0m     train_3(start_epochs)\n\u001B[1;32m      9\u001B[0m \u001B[38;5;28;01melif\u001B[39;00m model_choose \u001B[38;5;241m==\u001B[39m \u001B[38;5;241m4\u001B[39m:\n\u001B[0;32m---> 10\u001B[0m     \u001B[43mtrain_4\u001B[49m\u001B[43m(\u001B[49m\u001B[43mstart_epochs\u001B[49m\u001B[43m)\u001B[49m\n\u001B[1;32m     11\u001B[0m \u001B[38;5;28;01melse\u001B[39;00m:\n\u001B[1;32m     12\u001B[0m     \u001B[38;5;28mprint\u001B[39m(\u001B[38;5;124m\"\u001B[39m\u001B[38;5;124mmodel_choose error\u001B[39m\u001B[38;5;124m\"\u001B[39m)\n",
      "Cell \u001B[0;32mIn[8], line 80\u001B[0m, in \u001B[0;36mtrain_4\u001B[0;34m(start_epoch)\u001B[0m\n\u001B[1;32m     78\u001B[0m \u001B[38;5;28;01mif\u001B[39;00m epoch \u001B[38;5;241m%\u001B[39m save_point \u001B[38;5;241m==\u001B[39m \u001B[38;5;241m0\u001B[39m:\n\u001B[1;32m     79\u001B[0m     state \u001B[38;5;241m=\u001B[39m {\u001B[38;5;124m'\u001B[39m\u001B[38;5;124mmodel\u001B[39m\u001B[38;5;124m'\u001B[39m: model_4\u001B[38;5;241m.\u001B[39mstate_dict(), \u001B[38;5;124m'\u001B[39m\u001B[38;5;124moptimizer\u001B[39m\u001B[38;5;124m'\u001B[39m: optimizer_4\u001B[38;5;241m.\u001B[39mstate_dict(), \u001B[38;5;124m'\u001B[39m\u001B[38;5;124mepoch\u001B[39m\u001B[38;5;124m'\u001B[39m: epoch}\n\u001B[0;32m---> 80\u001B[0m     \u001B[43mtorch\u001B[49m\u001B[38;5;241;43m.\u001B[39;49m\u001B[43msave\u001B[49m\u001B[43m(\u001B[49m\u001B[43mstate\u001B[49m\u001B[43m,\u001B[49m\u001B[43m \u001B[49m\u001B[38;5;124;43m'\u001B[39;49m\u001B[38;5;124;43m./checkpoints/Detail_Enhancement/epoch_\u001B[39;49m\u001B[38;5;124;43m'\u001B[39;49m\u001B[43m \u001B[49m\u001B[38;5;241;43m+\u001B[39;49m\u001B[43m \u001B[49m\u001B[38;5;28;43mstr\u001B[39;49m\u001B[43m(\u001B[49m\u001B[43mepoch\u001B[49m\u001B[43m)\u001B[49m\u001B[43m \u001B[49m\u001B[38;5;241;43m+\u001B[39;49m\u001B[43m \u001B[49m\u001B[38;5;124;43m'\u001B[39;49m\u001B[38;5;124;43m.pth\u001B[39;49m\u001B[38;5;124;43m'\u001B[39;49m\u001B[43m)\u001B[49m\n\u001B[1;32m     81\u001B[0m     state \u001B[38;5;241m=\u001B[39m {\u001B[38;5;124m'\u001B[39m\u001B[38;5;124mmodel\u001B[39m\u001B[38;5;124m'\u001B[39m: model_fusion\u001B[38;5;241m.\u001B[39mstate_dict(), \u001B[38;5;124m'\u001B[39m\u001B[38;5;124moptimizer\u001B[39m\u001B[38;5;124m'\u001B[39m: optimizer_fusion\u001B[38;5;241m.\u001B[39mstate_dict(), \u001B[38;5;124m'\u001B[39m\u001B[38;5;124mepoch\u001B[39m\u001B[38;5;124m'\u001B[39m: epoch}\n\u001B[1;32m     82\u001B[0m     torch\u001B[38;5;241m.\u001B[39msave(state, \u001B[38;5;124m'\u001B[39m\u001B[38;5;124m./checkpoints/Channels_Fusion/epoch_\u001B[39m\u001B[38;5;124m'\u001B[39m \u001B[38;5;241m+\u001B[39m \u001B[38;5;28mstr\u001B[39m(epoch) \u001B[38;5;241m+\u001B[39m \u001B[38;5;124m'\u001B[39m\u001B[38;5;124m.pth\u001B[39m\u001B[38;5;124m'\u001B[39m)\n",
      "File \u001B[0;32m~/miniconda3/envs/troch1.13/lib/python3.8/site-packages/torch/serialization.py:422\u001B[0m, in \u001B[0;36msave\u001B[0;34m(obj, f, pickle_module, pickle_protocol, _use_new_zipfile_serialization)\u001B[0m\n\u001B[1;32m    419\u001B[0m _check_dill_version(pickle_module)\n\u001B[1;32m    421\u001B[0m \u001B[38;5;28;01mif\u001B[39;00m _use_new_zipfile_serialization:\n\u001B[0;32m--> 422\u001B[0m     \u001B[38;5;28;01mwith\u001B[39;00m \u001B[43m_open_zipfile_writer\u001B[49m\u001B[43m(\u001B[49m\u001B[43mf\u001B[49m\u001B[43m)\u001B[49m \u001B[38;5;28;01mas\u001B[39;00m opened_zipfile:\n\u001B[1;32m    423\u001B[0m         _save(obj, opened_zipfile, pickle_module, pickle_protocol)\n\u001B[1;32m    424\u001B[0m         \u001B[38;5;28;01mreturn\u001B[39;00m\n",
      "File \u001B[0;32m~/miniconda3/envs/troch1.13/lib/python3.8/site-packages/torch/serialization.py:309\u001B[0m, in \u001B[0;36m_open_zipfile_writer\u001B[0;34m(name_or_buffer)\u001B[0m\n\u001B[1;32m    307\u001B[0m \u001B[38;5;28;01melse\u001B[39;00m:\n\u001B[1;32m    308\u001B[0m     container \u001B[38;5;241m=\u001B[39m _open_zipfile_writer_buffer\n\u001B[0;32m--> 309\u001B[0m \u001B[38;5;28;01mreturn\u001B[39;00m \u001B[43mcontainer\u001B[49m\u001B[43m(\u001B[49m\u001B[43mname_or_buffer\u001B[49m\u001B[43m)\u001B[49m\n",
      "File \u001B[0;32m~/miniconda3/envs/troch1.13/lib/python3.8/site-packages/torch/serialization.py:287\u001B[0m, in \u001B[0;36m_open_zipfile_writer_file.__init__\u001B[0;34m(self, name)\u001B[0m\n\u001B[1;32m    286\u001B[0m \u001B[38;5;28;01mdef\u001B[39;00m \u001B[38;5;21m__init__\u001B[39m(\u001B[38;5;28mself\u001B[39m, name) \u001B[38;5;241m-\u001B[39m\u001B[38;5;241m>\u001B[39m \u001B[38;5;28;01mNone\u001B[39;00m:\n\u001B[0;32m--> 287\u001B[0m     \u001B[38;5;28msuper\u001B[39m(_open_zipfile_writer_file, \u001B[38;5;28mself\u001B[39m)\u001B[38;5;241m.\u001B[39m\u001B[38;5;21m__init__\u001B[39m(\u001B[43mtorch\u001B[49m\u001B[38;5;241;43m.\u001B[39;49m\u001B[43m_C\u001B[49m\u001B[38;5;241;43m.\u001B[39;49m\u001B[43mPyTorchFileWriter\u001B[49m\u001B[43m(\u001B[49m\u001B[38;5;28;43mstr\u001B[39;49m\u001B[43m(\u001B[49m\u001B[43mname\u001B[49m\u001B[43m)\u001B[49m\u001B[43m)\u001B[49m)\n",
      "\u001B[0;31mRuntimeError\u001B[0m: Parent directory ./checkpoints/Detail_Enhancement does not exist."
     ]
    }
   ],
   "source": [
    "if __name__ == '__main__':\n",
    "    print(torch.cuda.is_available())\n",
    "    if model_choose == 1:\n",
    "        train_1(start_epochs)\n",
    "    elif model_choose == 2:\n",
    "        train_2(start_epochs)\n",
    "    elif model_choose == 3:\n",
    "        train_3(start_epochs)\n",
    "    elif model_choose == 4:\n",
    "        train_4(start_epochs)\n",
    "    else:\n",
    "        print(\"model_choose error\")"
   ]
  }
 ],
 "metadata": {
  "kernelspec": {
   "display_name": "Python 3 (ipykernel)",
   "language": "python",
   "name": "python3"
  },
  "language_info": {
   "codemirror_mode": {
    "name": "ipython",
    "version": 3
   },
   "file_extension": ".py",
   "mimetype": "text/x-python",
   "name": "python",
   "nbconvert_exporter": "python",
   "pygments_lexer": "ipython3",
   "version": "3.8.17"
  }
 },
 "nbformat": 4,
 "nbformat_minor": 1
}
